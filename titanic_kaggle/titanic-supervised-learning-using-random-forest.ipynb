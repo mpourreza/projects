{
 "cells": [
  {
   "cell_type": "markdown",
   "metadata": {},
   "source": [
    "# Read Data"
   ]
  },
  {
   "cell_type": "code",
   "execution_count": 1,
   "metadata": {
    "_cell_guid": "b1076dfc-b9ad-4769-8c92-a6c4dae69d19",
    "_uuid": "8f2839f25d086af736a60e9eeb907d3b93b6e0e5"
   },
   "outputs": [],
   "source": [
    "import numpy as np \n",
    "import pandas as pd\n",
    "import seaborn as sns\n",
    "from sklearn.ensemble import RandomForestClassifier\n",
    "from sklearn import preprocessing\n",
    "import matplotlib.pyplot as plt\n",
    "import os\n",
    "import warnings\n",
    "warnings.filterwarnings(\"ignore\")\n",
    "\n",
    "train_file = '../input/train.csv'\n",
    "data = pd.read_csv(train_file, delimiter=',')\n",
    "test_file = '../input/test.csv'\n",
    "tdata = pd.read_csv(test_file, delimiter=',')\n",
    "\n",
    "train_data = data[['Pclass', 'Sex', 'Age', 'SibSp', 'Parch', 'Cabin', 'Fare', 'Survived', 'Name', 'Ticket']]\n",
    "test_data = tdata[['Pclass', 'Sex', 'Age', 'SibSp', 'Parch', 'Cabin', 'Fare', 'Name', 'Ticket']]\n",
    "\n",
    "def update_name(df):\n",
    "    df['Lname'] = df.Name.apply(lambda x: x.split(',')[0])\n",
    "    return df\n",
    "\n",
    "def update_sex(df):\n",
    "    df.Sex = df.Sex.str[0]\n",
    "    return df\n",
    "\n",
    "def update_cabin(df):\n",
    "    df.Cabin = df.Cabin.fillna('N')\n",
    "    df.Cabin = df.Cabin.str[0]\n",
    "    return df\n",
    "\n",
    "def update_fare(df):\n",
    "    df.Fare = df.Fare.fillna(0)\n",
    "    bins = (-1, 0, 8, 15, 31, 60, 513)\n",
    "    bin_names = [0, 1, 2, 3, 4, 5]\n",
    "    df.Fare = pd.cut(df.Fare, bins, labels=bin_names)\n",
    "    return df\n",
    "\n",
    "def update_age(df):\n",
    "    df.Age = df.Age.fillna(0)\n",
    "    bins = (-1, 0, 5, 12, 20, 28, 38, 60, 90)\n",
    "    bin_names = [0, 1, 2, 3, 4, 5, 6, 7]\n",
    "    df.Age = pd.cut(df.Age, bins, labels=bin_names)\n",
    "    return df\n",
    "\n",
    "def update_columns(df):\n",
    "    df = update_name(df)\n",
    "    df = update_sex(df)\n",
    "    df = update_cabin(df)\n",
    "    df = update_fare(df)\n",
    "    df = update_age(df)\n",
    "    df = df.drop(['Name'], axis=1)\n",
    "    return df\n",
    "\n",
    "train_data = update_columns(train_data)\n",
    "test_data = update_columns(test_data)\n",
    "\n",
    "def encode_features(df):\n",
    "    features = ['Sex', 'Ticket', 'Cabin', 'Lname']\n",
    "    df_combined = df[features]\n",
    "    \n",
    "    for feature in features:\n",
    "        le = preprocessing.LabelEncoder()\n",
    "        le = le.fit(df_combined[feature])\n",
    "        df[feature] = le.transform(df[feature])\n",
    "    return df\n",
    "    \n",
    "train_data = encode_features(train_data)\n",
    "test_data = encode_features(test_data)\n",
    "\n",
    "X_all = train_data.drop(['Survived'], axis=1)\n",
    "y_all = train_data['Survived']"
   ]
  },
  {
   "cell_type": "markdown",
   "metadata": {},
   "source": [
    "# Analysis"
   ]
  },
  {
   "cell_type": "code",
   "execution_count": 2,
   "metadata": {},
   "outputs": [
    {
     "data": {
      "image/png": "[encoded data removed]",
      "text/plain": [
       "<Figure size 1152x432 with 1 Axes>"
      ]
     },
     "metadata": {},
     "output_type": "display_data"
    }
   ],
   "source": [
    "plt.figure(figsize=(16, 6))\n",
    "sns.barplot(x=\"Pclass\", y=\"Survived\", hue=\"Age\", data=train_data);"
   ]
  },
  {
   "cell_type": "code",
   "execution_count": 3,
   "metadata": {},
   "outputs": [
    {
     "data": {
      "image/png": "[encoded data removed]",
      "text/plain": [
       "<Figure size 1152x432 with 1 Axes>"
      ]
     },
     "metadata": {},
     "output_type": "display_data"
    }
   ],
   "source": [
    "plt.figure(figsize=(16, 6))\n",
    "sns.barplot(x=\"Pclass\", y=\"Survived\", hue=\"Fare\", data=train_data);"
   ]
  },
  {
   "cell_type": "code",
   "execution_count": 4,
   "metadata": {},
   "outputs": [
    {
     "data": {
      "image/png": "[encoded data removed]",
      "text/plain": [
       "<Figure size 432x288 with 1 Axes>"
      ]
     },
     "metadata": {},
     "output_type": "display_data"
    }
   ],
   "source": [
    "sns.barplot(x=\"Pclass\", y=\"Survived\", data=train_data);"
   ]
  },
  {
   "cell_type": "markdown",
   "metadata": {},
   "source": [
    "# Supervised Learning"
   ]
  },
  {
   "cell_type": "code",
   "execution_count": 5,
   "metadata": {},
   "outputs": [],
   "source": [
    "from sklearn.tree import DecisionTreeClassifier\n",
    "clf = RandomForestClassifier(n_estimators=100, max_depth=2, random_state=100)\n",
    "clf.fit(X_all, y_all)\n",
    "test_predictions = clf.predict(test_data)\n",
    "\n",
    "preds = {'PassengerId': tdata['PassengerId'], 'Survived': test_predictions}\n",
    "df = pd.DataFrame(data=preds)\n",
    "df.to_csv('preds.csv', sep=',', index=False)"
   ]
  },
  {
   "cell_type": "code",
   "execution_count": 6,
   "metadata": {
    "_cell_guid": "79c7e3d0-c299-4dcb-8224-4455121ee9b0",
    "_uuid": "d629ff2d2480ee46fbb7e2d37f6b5fab8052498a",
    "collapsed": true
   },
   "outputs": [],
   "source": []
  }
 ],
 "metadata": {
  "kernelspec": {
   "display_name": "Python 3",
   "language": "python",
   "name": "python3"
  },
  "language_info": {
   "codemirror_mode": {
    "name": "ipython",
    "version": 3
   },
   "file_extension": ".py",
   "mimetype": "text/x-python",
   "name": "python",
   "nbconvert_exporter": "python",
   "pygments_lexer": "ipython3",
   "version": "3.6.4"
  }
 },
 "nbformat": 4,
 "nbformat_minor": 1
}
